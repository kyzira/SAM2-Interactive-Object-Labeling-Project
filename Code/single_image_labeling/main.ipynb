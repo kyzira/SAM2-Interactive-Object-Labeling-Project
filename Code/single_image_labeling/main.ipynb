{
 "cells": [
  {
   "cell_type": "markdown",
   "metadata": {},
   "source": [
    "# Label single Images with SAM2"
   ]
  },
  {
   "cell_type": "code",
   "execution_count": null,
   "metadata": {},
   "outputs": [],
   "source": [
    "import os\n",
    "# if using Apple MPS, fall back to CPU for unsupported ops\n",
    "os.environ[\"PYTORCH_ENABLE_MPS_FALLBACK\"] = \"1\"\n",
    "from image_info import ImageInfo\n",
    "from draw_image_info import DrawImageInfo\n",
    "from sam2_image_predictor import Sam2ImagePredictor\n",
    "from annotation_window import AnnotationWindow"
   ]
  },
  {
   "cell_type": "markdown",
   "metadata": {},
   "source": [
    "Now load the Image and the SAM2 Model Paths"
   ]
  },
  {
   "cell_type": "code",
   "execution_count": 2,
   "metadata": {},
   "outputs": [],
   "source": [
    "image_path = r\"C:\\Users\\K3000\\Pictures\\Random Damage Images\\_4516D08392626__.mpg.25400_DAMAGE.jpg\""
   ]
  },
  {
   "cell_type": "code",
   "execution_count": null,
   "metadata": {},
   "outputs": [],
   "source": [
    "model_cfg_path = \"configs/sam2.1/sam2.1_hiera_l.yaml\"\n",
    "sam2_checkpoint_path = \"../checkpoints/sam2.1_hiera_large.pt\""
   ]
  },
  {
   "cell_type": "markdown",
   "metadata": {},
   "source": [
    "Now setting those info in the needed classes"
   ]
  },
  {
   "cell_type": "code",
   "execution_count": null,
   "metadata": {},
   "outputs": [],
   "source": [
    "image_info = ImageInfo(image_path)\n",
    "image_info.load_image()\n",
    "\n",
    "sam2_class = Sam2ImagePredictor(model_cfg_path, sam2_checkpoint_path)\n",
    "sam2_class.load_image(image_info)\n",
    "\n",
    "annotation_window = AnnotationWindow()\n",
    "annotation_window.set_settings(is_maximized=True)\n",
    "annotation_window.set_image_info(image_info)\n",
    "annotation_window.set_segmenter(sam2_class)\n"
   ]
  }
 ],
 "metadata": {
  "kernelspec": {
   "display_name": "sam2",
   "language": "python",
   "name": "python3"
  },
  "language_info": {
   "codemirror_mode": {
    "name": "ipython",
    "version": 3
   },
   "file_extension": ".py",
   "mimetype": "text/x-python",
   "name": "python",
   "nbconvert_exporter": "python",
   "pygments_lexer": "ipython3",
   "version": "3.12.3"
  }
 },
 "nbformat": 4,
 "nbformat_minor": 2
}
